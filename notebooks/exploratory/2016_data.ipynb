{
 "cells": [
  {
   "cell_type": "code",
   "execution_count": 1,
   "metadata": {},
   "outputs": [],
   "source": [
    "import pandas as pd\n"
   ]
  },
  {
   "cell_type": "markdown",
   "metadata": {},
   "source": [
    "#### 2016 report table data for all youth by age"
   ]
  },
  {
   "cell_type": "code",
   "execution_count": 2,
   "metadata": {},
   "outputs": [
    {
     "data": {
      "text/html": [
       "<div>\n",
       "<style scoped>\n",
       "    .dataframe tbody tr th:only-of-type {\n",
       "        vertical-align: middle;\n",
       "    }\n",
       "\n",
       "    .dataframe tbody tr th {\n",
       "        vertical-align: top;\n",
       "    }\n",
       "\n",
       "    .dataframe thead th {\n",
       "        text-align: right;\n",
       "    }\n",
       "</style>\n",
       "<table border=\"1\" class=\"dataframe\">\n",
       "  <thead>\n",
       "    <tr style=\"text-align: right;\">\n",
       "      <th></th>\n",
       "      <th>Category</th>\n",
       "      <th>16-18</th>\n",
       "      <th>19-21</th>\n",
       "      <th>22-24</th>\n",
       "      <th>Totals</th>\n",
       "    </tr>\n",
       "  </thead>\n",
       "  <tbody>\n",
       "    <tr>\n",
       "      <th>0</th>\n",
       "      <td>Opportunity Youth</td>\n",
       "      <td>2,805</td>\n",
       "      <td>7,284</td>\n",
       "      <td>8,728</td>\n",
       "      <td>18,817</td>\n",
       "    </tr>\n",
       "    <tr>\n",
       "      <th>1</th>\n",
       "      <td>Working No Diploma</td>\n",
       "      <td>587</td>\n",
       "      <td>2,049</td>\n",
       "      <td>2,877</td>\n",
       "      <td>5,513</td>\n",
       "    </tr>\n",
       "    <tr>\n",
       "      <th>2</th>\n",
       "      <td>Not Opportunity Youth</td>\n",
       "      <td>4661</td>\n",
       "      <td>32,318</td>\n",
       "      <td>36,426</td>\n",
       "      <td>115,405</td>\n",
       "    </tr>\n",
       "    <tr>\n",
       "      <th>3</th>\n",
       "      <td>Total Population</td>\n",
       "      <td>50,053</td>\n",
       "      <td>41,651</td>\n",
       "      <td>48,031</td>\n",
       "      <td>139,735</td>\n",
       "    </tr>\n",
       "  </tbody>\n",
       "</table>\n",
       "</div>"
      ],
      "text/plain": [
       "                Category   16-18   19-21   22-24   Totals\n",
       "0      Opportunity Youth   2,805   7,284   8,728   18,817\n",
       "1     Working No Diploma     587   2,049   2,877    5,513\n",
       "2  Not Opportunity Youth    4661  32,318  36,426  115,405\n",
       "3       Total Population  50,053  41,651  48,031  139,735"
      ]
     },
     "execution_count": 2,
     "metadata": {},
     "output_type": "execute_result"
    }
   ],
   "source": [
    "pd.read_csv('total_youth_2016_data.csv')"
   ]
  },
  {
   "cell_type": "markdown",
   "metadata": {},
   "source": [
    "#### 2016 report table data for all opportunity youth education by age"
   ]
  },
  {
   "cell_type": "code",
   "execution_count": 4,
   "metadata": {},
   "outputs": [
    {
     "data": {
      "text/html": [
       "<div>\n",
       "<style scoped>\n",
       "    .dataframe tbody tr th:only-of-type {\n",
       "        vertical-align: middle;\n",
       "    }\n",
       "\n",
       "    .dataframe tbody tr th {\n",
       "        vertical-align: top;\n",
       "    }\n",
       "\n",
       "    .dataframe thead th {\n",
       "        text-align: right;\n",
       "    }\n",
       "</style>\n",
       "<table border=\"1\" class=\"dataframe\">\n",
       "  <thead>\n",
       "    <tr style=\"text-align: right;\">\n",
       "      <th></th>\n",
       "      <th>Category</th>\n",
       "      <th>16-18</th>\n",
       "      <th>19-21</th>\n",
       "      <th>22-24</th>\n",
       "      <th>Totals</th>\n",
       "    </tr>\n",
       "  </thead>\n",
       "  <tbody>\n",
       "    <tr>\n",
       "      <th>0</th>\n",
       "      <td>No diploma</td>\n",
       "      <td>1,610</td>\n",
       "      <td>2,048</td>\n",
       "      <td>1,981</td>\n",
       "      <td>5,639</td>\n",
       "    </tr>\n",
       "    <tr>\n",
       "      <th>1</th>\n",
       "      <td>HS diploma or GED</td>\n",
       "      <td>985</td>\n",
       "      <td>3,349</td>\n",
       "      <td>3,067</td>\n",
       "      <td>7,401</td>\n",
       "    </tr>\n",
       "    <tr>\n",
       "      <th>2</th>\n",
       "      <td>Some college, no degree</td>\n",
       "      <td>179</td>\n",
       "      <td>1,666</td>\n",
       "      <td>1,763</td>\n",
       "      <td>3,608</td>\n",
       "    </tr>\n",
       "    <tr>\n",
       "      <th>3</th>\n",
       "      <td>Degree(AA or higher)</td>\n",
       "      <td>31</td>\n",
       "      <td>221</td>\n",
       "      <td>1,917</td>\n",
       "      <td>2,169</td>\n",
       "    </tr>\n",
       "    <tr>\n",
       "      <th>4</th>\n",
       "      <td>Total OY</td>\n",
       "      <td>2,805</td>\n",
       "      <td>7,284</td>\n",
       "      <td>8,728</td>\n",
       "      <td>18,817</td>\n",
       "    </tr>\n",
       "  </tbody>\n",
       "</table>\n",
       "</div>"
      ],
      "text/plain": [
       "                  Category  16-18  19-21  22-24  Totals\n",
       "0               No diploma  1,610  2,048  1,981   5,639\n",
       "1        HS diploma or GED    985  3,349  3,067   7,401\n",
       "2  Some college, no degree    179  1,666  1,763   3,608\n",
       "3     Degree(AA or higher)     31    221  1,917   2,169\n",
       "4                 Total OY  2,805  7,284  8,728  18,817"
      ]
     },
     "execution_count": 4,
     "metadata": {},
     "output_type": "execute_result"
    }
   ],
   "source": [
    "pd.read_csv('oy_ed_2016_data.csv')"
   ]
  },
  {
   "cell_type": "code",
   "execution_count": null,
   "metadata": {},
   "outputs": [],
   "source": []
  }
 ],
 "metadata": {
  "kernelspec": {
   "display_name": "Python 3",
   "language": "python",
   "name": "python3"
  },
  "language_info": {
   "codemirror_mode": {
    "name": "ipython",
    "version": 3
   },
   "file_extension": ".py",
   "mimetype": "text/x-python",
   "name": "python",
   "nbconvert_exporter": "python",
   "pygments_lexer": "ipython3",
   "version": "3.8.3"
  }
 },
 "nbformat": 4,
 "nbformat_minor": 4
}
